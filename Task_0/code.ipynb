{
 "cells": [
  {
   "cell_type": "code",
   "execution_count": 1,
   "id": "f9ee7ecd",
   "metadata": {},
   "outputs": [],
   "source": [
    "import torch\n",
    "import torch.nn as nn\n",
    "from torch.utils.data import Dataset, DataLoader\n",
    "from torchvision import datasets\n",
    "from torchvision.transforms import ToTensor\n",
    "from sklearn.model_selection import train_test_split\n",
    "import pandas as pd\n",
    "import matplotlib.pyplot as plt"
   ]
  },
  {
   "cell_type": "code",
   "execution_count": 2,
   "id": "c01477d6",
   "metadata": {},
   "outputs": [],
   "source": [
    "# Read train and test set\n",
    "train = pd.read_csv(\"./train.csv\")\n",
    "test_final = pd.read_csv(\"./test.csv\")\n",
    "del test_final[\"Id\"]\n",
    "# Get labels\n",
    "labels = train[\"y\"]\n",
    "del train[\"y\"]\n",
    "del train[\"Id\"]\n",
    "\n",
    "# Create train and test set\n",
    "X_train, X_test, y_train, y_test = train_test_split(train, labels, train_size=0.7, shuffle=False)"
   ]
  },
  {
   "cell_type": "code",
   "execution_count": 3,
   "id": "c1ff23d5",
   "metadata": {},
   "outputs": [],
   "source": [
    "# Define Custom Dataset\n",
    "class CustomDataset(Dataset):\n",
    "    def __init__(self, data, labels):\n",
    "        self.data = torch.tensor(data.values, dtype=torch.float32)\n",
    "        self.labels = torch.tensor(labels, dtype=torch.float32).reshape(-1, 1)\n",
    "    \n",
    "    def __len__(self):\n",
    "        return self.data.shape[0]\n",
    "    \n",
    "    def __getitem__(self, index):\n",
    "        x = self.data[index]\n",
    "        y = self.labels[index]\n",
    "        return x, y        "
   ]
  },
  {
   "cell_type": "code",
   "execution_count": 4,
   "id": "e1106100",
   "metadata": {},
   "outputs": [],
   "source": [
    "# Create Datasets\n",
    "train_dataset = CustomDataset(X_train, y_train)\n",
    "# Why need to manip y_test but y_train works directly???\n",
    "y_test = y_test.values.reshape(-1, 1)\n",
    "test_dataset = CustomDataset(X_test, y_test)"
   ]
  },
  {
   "cell_type": "code",
   "execution_count": 5,
   "id": "948d89b0",
   "metadata": {},
   "outputs": [],
   "source": [
    "# Create DataLoader\n",
    "train_dataloader = DataLoader(train_dataset, batch_size=64, shuffle=False)\n",
    "test_dataloader = DataLoader(test_dataset, batch_size=64, shuffle=False)"
   ]
  },
  {
   "cell_type": "code",
   "execution_count": 17,
   "id": "7b111ae7",
   "metadata": {},
   "outputs": [],
   "source": [
    "# Define model\n",
    "class SimpleNN(nn.Module):\n",
    "    def __init__(self, input_size, hidden_size, num_layers):\n",
    "        super().__init__()\n",
    "        self.fc = nn.Linear(input_size, hidden_size)\n",
    "        self.relu = nn.ReLU()\n",
    "        self.layers = nn.ModuleList([nn.Linear(hidden_size, hidden_size) for _ in range(num_layers - 1)])\n",
    "        self.output_layer = nn.Linear(hidden_size, 1)\n",
    "\n",
    "    def forward(self, x):\n",
    "        x = self.relu(self.fc(x))\n",
    "        for layer in self.layers:\n",
    "            x = self.relu(layer(x))\n",
    "        x = self.output_layer(x)\n",
    "        return x\n",
    "\n",
    "\n",
    "input_size = train_dataloader.dataset.data.shape[1]\n",
    "num_layers = 10\n",
    "hidden_size = 80\n",
    "model = SimpleNN(input_size, hidden_size, num_layers)\n"
   ]
  },
  {
   "cell_type": "code",
   "execution_count": 18,
   "id": "c5d5e2e1",
   "metadata": {},
   "outputs": [],
   "source": [
    "loss_fn = nn.MSELoss()\n",
    "optimizer = torch.optim.Adam(model.parameters(), lr=0.0001)"
   ]
  },
  {
   "cell_type": "code",
   "execution_count": 19,
   "id": "e814e9ae",
   "metadata": {},
   "outputs": [],
   "source": [
    "# train loop\n",
    "def train_loop(dataloader, model, loss_fn, optimizer):\n",
    "    epoch_loss = 0.0\n",
    "    num_batches = len(dataloader)\n",
    "    model.train()\n",
    "    for batch, (X, y) in enumerate(dataloader):\n",
    "        pred = model(X)\n",
    "        loss = loss_fn(pred, y)\n",
    "        epoch_loss += loss.item()\n",
    "        # Backpropagation\n",
    "        optimizer.zero_grad()\n",
    "        loss.backward()\n",
    "        optimizer.step()\n",
    "    avg_batch_loss = epoch_loss / num_batches\n",
    "    return avg_batch_loss\n",
    "\n",
    "# test_loop\n",
    "def test_loop(dataloader, model, loss_fn, optimizer):\n",
    "    epoch_test_loss = 0.0\n",
    "    num_batches = len(dataloader)\n",
    "    model.eval()\n",
    "    \n",
    "    with torch.no_grad():\n",
    "        for X, y in dataloader:\n",
    "            pred = model(X)\n",
    "            epoch_test_loss += loss_fn(pred, y).item()\n",
    "\n",
    "    avg_batch_test_loss = epoch_test_loss / num_batches\n",
    "    return avg_batch_test_loss\n",
    "\n"
   ]
  },
  {
   "cell_type": "code",
   "execution_count": 20,
   "id": "32f210a8",
   "metadata": {},
   "outputs": [
    {
     "name": "stdout",
     "output_type": "stream",
     "text": [
      "-------- epoch 0 ---------------\n",
      "train loss 88821.61654829545\n",
      "test loss 42967.995553523935\n",
      "-------- epoch 20 ---------------\n",
      "train loss 199.6098064769398\n",
      "test loss 250.82970282372008\n",
      "-------- epoch 40 ---------------\n",
      "train loss 89.31247485767712\n",
      "test loss 135.04128216682597\n",
      "-------- epoch 60 ---------------\n",
      "train loss 48.47328709689054\n",
      "test loss 87.74746355097345\n",
      "-------- epoch 80 ---------------\n",
      "train loss 38.30918038108132\n",
      "test loss 81.31232241366772\n",
      "-------- epoch 100 ---------------\n",
      "train loss 21.61605237614025\n",
      "test loss 53.95870435998795\n",
      "-------- epoch 120 ---------------\n",
      "train loss 22.967326511036266\n",
      "test loss 51.47130649647814\n",
      "-------- epoch 140 ---------------\n",
      "train loss 13.13933331749656\n",
      "test loss 32.709326520879216\n",
      "-------- epoch 160 ---------------\n",
      "train loss 9.448943970420144\n",
      "test loss 26.75949421334774\n",
      "-------- epoch 180 ---------------\n",
      "train loss 22.344590503519232\n",
      "test loss 32.96218320156665\n",
      "-------- epoch 200 ---------------\n",
      "train loss 6.171830998767506\n",
      "test loss 19.7461898073237\n",
      "-------- epoch 220 ---------------\n",
      "train loss 13.619367031617598\n",
      "test loss 22.357582071994212\n",
      "-------- epoch 240 ---------------\n",
      "train loss 4.227085992964831\n",
      "test loss 15.952121125890853\n",
      "-------- epoch 260 ---------------\n",
      "train loss 6.43064277713949\n",
      "test loss 24.39501632528102\n",
      "-------- epoch 280 ---------------\n",
      "train loss 3.3839619660919364\n",
      "test loss 16.591997146606445\n",
      "-------- epoch 300 ---------------\n",
      "train loss 13.30239072821357\n",
      "test loss 84.84313778167075\n",
      "-------- epoch 320 ---------------\n",
      "train loss 4.75137999382886\n",
      "test loss 11.739489027794372\n",
      "-------- epoch 340 ---------------\n",
      "train loss 2.2590722121975637\n",
      "test loss 9.26004632990411\n",
      "-------- epoch 360 ---------------\n",
      "train loss 3.6927915930747988\n",
      "test loss 11.736254215240479\n",
      "-------- epoch 380 ---------------\n",
      "train loss 2.017391193454916\n",
      "test loss 7.866378155160458\n",
      "-------- epoch 400 ---------------\n",
      "train loss 4.322334271127527\n",
      "test loss 11.605948174253424\n",
      "-------- epoch 420 ---------------\n",
      "train loss 1.4928183162754232\n",
      "test loss 7.209361624210439\n",
      "-------- epoch 440 ---------------\n",
      "train loss 1.9480187803506852\n",
      "test loss 6.772307811899388\n",
      "-------- epoch 460 ---------------\n",
      "train loss 3.089185742898421\n",
      "test loss 6.94133448600769\n",
      "-------- epoch 480 ---------------\n",
      "train loss 1.8472380887378346\n",
      "test loss 6.098726901602237\n"
     ]
    }
   ],
   "source": [
    "epochs = 500\n",
    "train_loss_list = []\n",
    "test_loss_list = []\n",
    "for t in range(epochs):\n",
    "    train_loss = train_loop(train_dataloader, model, loss_fn, optimizer)\n",
    "    train_loss_list.append(train_loss)\n",
    "    test_loss = test_loop(test_dataloader, model, loss_fn, optimizer)\n",
    "    test_loss_list.append(test_loss)\n",
    "    if t % 20 == 0:\n",
    "        print(\"-------- epoch\", t, \"---------------\")\n",
    "        print(f\"train loss {train_loss}\")\n",
    "        print(f\"test loss {test_loss}\")"
   ]
  },
  {
   "cell_type": "code",
   "execution_count": 21,
   "id": "f144ecdb",
   "metadata": {},
   "outputs": [
    {
     "data": {
      "image/png": "[encoded data removed]",
      "text/plain": [
       "<Figure size 640x480 with 1 Axes>"
      ]
     },
     "metadata": {},
     "output_type": "display_data"
    }
   ],
   "source": [
    "plt.figure()\n",
    "plt.plot(range(epochs), train_loss_list, label=\"train_loss\")\n",
    "plt.plot(range(epochs), test_loss_list, label=\"test loss\")\n",
    "plt.legend()\n",
    "plt.show()"
   ]
  },
  {
   "cell_type": "code",
   "execution_count": 11,
   "id": "5873cc24",
   "metadata": {},
   "outputs": [],
   "source": [
    "y_final_pred = model(torch.tensor(test_final.values, dtype=torch.float32))"
   ]
  },
  {
   "cell_type": "code",
   "execution_count": 12,
   "id": "ff3e054e",
   "metadata": {},
   "outputs": [],
   "source": [
    "pred = model(test_dataloader.dataset.data).detach().numpy().reshape(-1)\n",
    "label = test_dataloader.dataset.labels.detach().numpy().reshape(-1)\n",
    "\n",
    "dict = {\"predictions\": pred,\n",
    "        \"labels\": label}"
   ]
  },
  {
   "cell_type": "code",
   "execution_count": 13,
   "id": "9b68aac5",
   "metadata": {},
   "outputs": [
    {
     "data": {
      "text/plain": [
       "{'predictions': array([-221.99146 , -251.79382 , -313.62717 , ...,   62.781097,\n",
       "        -202.07132 , -291.6684  ], dtype=float32),\n",
       " 'labels': array([-219.08011 , -251.87553 , -315.46127 , ...,   61.176537,\n",
       "        -202.13649 , -289.219   ], dtype=float32)}"
      ]
     },
     "execution_count": 13,
     "metadata": {},
     "output_type": "execute_result"
    }
   ],
   "source": [
    "dict"
   ]
  },
  {
   "cell_type": "code",
   "execution_count": 14,
   "id": "fc26e906",
   "metadata": {},
   "outputs": [],
   "source": [
    "df = pd.DataFrame(dict)\n",
    "df.to_csv(\"./pred.csv\")"
   ]
  },
  {
   "cell_type": "code",
   "execution_count": null,
   "id": "9e882114",
   "metadata": {},
   "outputs": [],
   "source": []
  }
 ],
 "metadata": {
  "kernelspec": {
   "display_name": "CMS_Thesis",
   "language": "python",
   "name": "cms_thesis"
  },
  "language_info": {
   "codemirror_mode": {
    "name": "ipython",
    "version": 3
   },
   "file_extension": ".py",
   "mimetype": "text/x-python",
   "name": "python",
   "nbconvert_exporter": "python",
   "pygments_lexer": "ipython3",
   "version": "3.11.5"
  }
 },
 "nbformat": 4,
 "nbformat_minor": 5
}
