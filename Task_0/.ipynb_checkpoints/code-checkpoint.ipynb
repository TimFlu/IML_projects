{
 "cells": [
  {
   "cell_type": "code",
   "execution_count": 1,
   "id": "f9ee7ecd",
   "metadata": {},
   "outputs": [],
   "source": [
    "import torch\n",
    "import torch.nn as nn\n",
    "from torch.utils.data import Dataset, DataLoader\n",
    "from torchvision import datasets\n",
    "from torchvision.transforms import ToTensor\n",
    "from sklearn.model_selection import train_test_split\n",
    "import pandas as pd\n",
    "import matplotlib.pyplot as plt"
   ]
  },
  {
   "cell_type": "code",
   "execution_count": 2,
   "id": "c01477d6",
   "metadata": {},
   "outputs": [],
   "source": [
    "# Read train and test set\n",
    "train = pd.read_csv(\"./train.csv\")\n",
    "test_final = pd.read_csv(\"./test.csv\")\n",
    "del test_final[\"Id\"]\n",
    "# Get labels\n",
    "labels = train[\"y\"]\n",
    "del train[\"y\"]\n",
    "del train[\"Id\"]\n",
    "\n",
    "# Create train and test set\n",
    "X_train, X_test, y_train, y_test = train_test_split(train, labels, train_size=0.7, shuffle=False)"
   ]
  },
  {
   "cell_type": "code",
   "execution_count": 3,
   "id": "c1ff23d5",
   "metadata": {},
   "outputs": [],
   "source": [
    "# Define Custom Dataset\n",
    "class CustomDataset(Dataset):\n",
    "    def __init__(self, data, labels):\n",
    "        self.data = torch.tensor(data.values, dtype=torch.float32)\n",
    "        self.labels = torch.tensor(labels, dtype=torch.float32).reshape(-1, 1)\n",
    "    \n",
    "    def __len__(self):\n",
    "        return self.data.shape[0]\n",
    "    \n",
    "    def __getitem__(self, index):\n",
    "        x = self.data[index]\n",
    "        y = self.labels[index]\n",
    "        return x, y        "
   ]
  },
  {
   "cell_type": "code",
   "execution_count": 4,
   "id": "e1106100",
   "metadata": {},
   "outputs": [],
   "source": [
    "# Create Datasets\n",
    "train_dataset = CustomDataset(X_train, y_train)\n",
    "# Why need to manip y_test but y_train works directly???\n",
    "y_test = y_test.values.reshape(-1, 1)\n",
    "test_dataset = CustomDataset(X_test, y_test)"
   ]
  },
  {
   "cell_type": "code",
   "execution_count": 58,
   "id": "948d89b0",
   "metadata": {},
   "outputs": [],
   "source": [
    "# Create DataLoader\n",
    "train_dataloader = DataLoader(train_dataset, batch_size=64, shuffle=False)\n",
    "test_dataloader = DataLoader(test_dataset, batch_size=64, shuffle=False)"
   ]
  },
  {
   "cell_type": "code",
   "execution_count": 59,
   "id": "7b111ae7",
   "metadata": {},
   "outputs": [],
   "source": [
    "# Define model\n",
    "class SimpleNN(nn.Module):\n",
    "    def __init__(self, input_size, hidden_size, num_layers):\n",
    "        super().__init__()\n",
    "        self.fc = nn.Linear(input_size, hidden_size)\n",
    "        self.relu = nn.ReLU()\n",
    "        self.layers = nn.ModuleList([nn.Linear(hidden_size, hidden_size) for _ in range(num_layers - 1)])\n",
    "        self.output_layer = nn.Linear(hidden_size, 1)\n",
    "\n",
    "    def forward(self, x):\n",
    "        x = self.relu(self.fc(x))\n",
    "        for layer in self.layers:\n",
    "            x = self.relu(layer(x))\n",
    "        x = self.output_layer(x)\n",
    "        return x\n",
    "\n",
    "\n",
    "input_size = train_dataloader.dataset.data.shape[1]\n",
    "num_layers = 4\n",
    "hidden_size = 64\n",
    "model = SimpleNN(input_size, hidden_size, num_layers)\n"
   ]
  },
  {
   "cell_type": "code",
   "execution_count": 60,
   "id": "c5d5e2e1",
   "metadata": {},
   "outputs": [],
   "source": [
    "loss_fn = nn.MSELoss()\n",
    "optimizer = torch.optim.Adam(model.parameters(), lr=0.0001)"
   ]
  },
  {
   "cell_type": "code",
   "execution_count": 61,
   "id": "e814e9ae",
   "metadata": {},
   "outputs": [],
   "source": [
    "# train loop\n",
    "def train_loop(dataloader, model, loss_fn, optimizer):\n",
    "    epoch_loss = 0.0\n",
    "    num_batches = len(dataloader)\n",
    "    model.train()\n",
    "    for batch, (X, y) in enumerate(dataloader):\n",
    "        pred = model(X)\n",
    "        loss = loss_fn(pred, y)\n",
    "        epoch_loss += loss.item()\n",
    "        # Backpropagation\n",
    "        optimizer.zero_grad()\n",
    "        loss.backward()\n",
    "        optimizer.step()\n",
    "    avg_batch_loss = epoch_loss / num_batches\n",
    "    return avg_batch_loss\n",
    "\n",
    "# test_loop\n",
    "def test_loop(dataloader, model, loss_fn, optimizer):\n",
    "    epoch_test_loss = 0.0\n",
    "    num_batches = len(dataloader)\n",
    "    model.eval()\n",
    "    \n",
    "    with torch.no_grad():\n",
    "        for X, y in dataloader:\n",
    "            pred = model(X)\n",
    "            epoch_test_loss += loss_fn(pred, y).item()\n",
    "\n",
    "    avg_batch_test_loss = epoch_test_loss / num_batches\n",
    "    return avg_batch_test_loss\n",
    "\n"
   ]
  },
  {
   "cell_type": "code",
   "execution_count": 62,
   "id": "32f210a8",
   "metadata": {},
   "outputs": [
    {
     "name": "stdout",
     "output_type": "stream",
     "text": [
      "-------- epoch 0 ---------------\n",
      "train loss 86159.38870738636\n",
      "test loss 62008.38439162234\n",
      "-------- epoch 20 ---------------\n",
      "train loss 344.74282406893644\n",
      "test loss 400.83649915329954\n",
      "-------- epoch 40 ---------------\n",
      "train loss 158.25185456709428\n",
      "test loss 218.01522924544963\n",
      "-------- epoch 60 ---------------\n",
      "train loss 89.24686619151723\n",
      "test loss 137.180143802724\n",
      "-------- epoch 80 ---------------\n",
      "train loss 54.79673236500133\n",
      "test loss 92.3095320031998\n"
     ]
    }
   ],
   "source": [
    "epochs = 100\n",
    "train_loss_list = []\n",
    "test_loss_list = []\n",
    "for t in range(epochs):\n",
    "    train_loss = train_loop(train_dataloader, model, loss_fn, optimizer)\n",
    "    train_loss_list.append(train_loss)\n",
    "    test_loss = test_loop(test_dataloader, model, loss_fn, optimizer)\n",
    "    test_loss_list.append(test_loss)\n",
    "    if t % 20 == 0:\n",
    "        print(\"-------- epoch\", t, \"---------------\")\n",
    "        print(f\"train loss {train_loss}\")\n",
    "        print(f\"test loss {test_loss}\")"
   ]
  },
  {
   "cell_type": "code",
   "execution_count": 64,
   "id": "f144ecdb",
   "metadata": {},
   "outputs": [
    {
     "data": {
      "image/png": "[encoded data removed]",
      "text/plain": [
       "<Figure size 640x480 with 1 Axes>"
      ]
     },
     "metadata": {},
     "output_type": "display_data"
    }
   ],
   "source": [
    "plt.figure()\n",
    "plt.plot(range(epochs), train_loss_list, label=\"train_loss\")\n",
    "plt.plot(range(epochs), test_loss_list, label=\"test loss\")\n",
    "plt.legend()\n",
    "plt.show()"
   ]
  },
  {
   "cell_type": "code",
   "execution_count": 65,
   "id": "5873cc24",
   "metadata": {},
   "outputs": [],
   "source": [
    "y_final_pred = model(torch.tensor(test_final.values, dtype=torch.float32))"
   ]
  },
  {
   "cell_type": "code",
   "execution_count": 66,
   "id": "ff3e054e",
   "metadata": {},
   "outputs": [],
   "source": [
    "pred = model(test_dataloader.dataset.data).detach().numpy().reshape(-1)\n",
    "label = test_dataloader.dataset.labels.detach().numpy().reshape(-1)\n",
    "\n",
    "dict = {\"predictions\": pred,\n",
    "        \"labels\": label}"
   ]
  },
  {
   "cell_type": "code",
   "execution_count": 67,
   "id": "9b68aac5",
   "metadata": {},
   "outputs": [
    {
     "data": {
      "text/plain": [
       "{'predictions': array([-219.09749 , -251.6917  , -308.23343 , ...,   52.754276,\n",
       "        -207.5825  , -282.87338 ], dtype=float32),\n",
       " 'labels': array([-219.08011 , -251.87553 , -315.46127 , ...,   61.176537,\n",
       "        -202.13649 , -289.219   ], dtype=float32)}"
      ]
     },
     "execution_count": 67,
     "metadata": {},
     "output_type": "execute_result"
    }
   ],
   "source": [
    "dict"
   ]
  },
  {
   "cell_type": "code",
   "execution_count": 57,
   "id": "fc26e906",
   "metadata": {},
   "outputs": [],
   "source": [
    "df = pd.DataFrame(dict)\n",
    "df.to_csv(\"./pred.csv\")"
   ]
  },
  {
   "cell_type": "code",
   "execution_count": null,
   "id": "9e882114",
   "metadata": {},
   "outputs": [],
   "source": []
  }
 ],
 "metadata": {
  "kernelspec": {
   "display_name": "CMS_Thesis",
   "language": "python",
   "name": "cms_thesis"
  },
  "language_info": {
   "codemirror_mode": {
    "name": "ipython",
    "version": 3
   },
   "file_extension": ".py",
   "mimetype": "text/x-python",
   "name": "python",
   "nbconvert_exporter": "python",
   "pygments_lexer": "ipython3",
   "version": "3.11.5"
  }
 },
 "nbformat": 4,
 "nbformat_minor": 5
}
